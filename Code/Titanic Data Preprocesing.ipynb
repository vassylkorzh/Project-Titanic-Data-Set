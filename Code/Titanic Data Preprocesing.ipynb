{
 "cells": [
  {
   "cell_type": "code",
   "execution_count": 187,
   "metadata": {
    "scrolled": true
   },
   "outputs": [],
   "source": [
    "import pandas as pd\n",
    "import numpy as np \n",
    "\n",
    "train = pd.read_csv(\"../1. Original Data/train.csv\")\n",
    "test = pd.read_csv(\"../1. Original Data/test.csv\")\n",
    "#print(train.info())\n",
    "#print (test.info())"
   ]
  },
  {
   "cell_type": "code",
   "execution_count": 188,
   "metadata": {},
   "outputs": [],
   "source": [
    "def cleaning (data):\n",
    "    # fist of all null in Embarked\n",
    "    data.dropna(subset=['Embarked'],inplace = True)\n",
    "    # computing null in Age * Fare columns (continuous data)\n",
    "    data['Fare'] = data['Fare'].fillna(data['Fare'].dropna().median())\n",
    "    data['Age'] = data['Age'].fillna(data['Age'].dropna().median())\n",
    "    \n",
    "    #-----------------------Feature Engineering------------------- \n",
    "    #Creating Famaly Size column\n",
    "    data['FamilySize']=data['SibSp']+data['Parch']+1\n",
    "    #creating cabin letter calumn\n",
    "    data['Cabin_letter'] = data['Cabin'].apply(lambda x: str(x)[0])\n",
    "    #creating name title \n",
    "    data['Name_title'] = data['Name'].apply(lambda x: x.split(',')[1].split('.')[0].strip())\n",
    "    #create column is ticket numeric or not\n",
    "    data['Numeric_ticket'] = data['Ticket'].apply(lambda x: 1 if x.isnumeric() else 0)\n",
    "    #-----------------------Encoding Feature data-------------------\n",
    "    # By gender \n",
    "    from sklearn.preprocessing import LabelEncoder \n",
    "    labelencoder = LabelEncoder()\n",
    "    data[\"Sex\"]= labelencoder.fit_transform(data[\"Sex\"])\n",
    "    # By Embarked \n",
    "    data[\"Embarked\"]= labelencoder.fit_transform(data[\"Embarked\"])\n",
    "    #By Name_title\n",
    "    data[\"Name_title\"]= labelencoder.fit_transform(data[\"Name_title\"])\n",
    "    #By Cabin_letter\n",
    "    data[\"Cabin_letter\"]= labelencoder.fit_transform(data[\"Cabin_letter\"])\n",
    "    #--------------------Bins------------------------\n",
    "    bins = [0, 5, 10, 15, 20, 25, 30,35,40,45,50,55,60,65,70,75,80,85]\n",
    "    labels = [0, 5, 10, 15, 20, 25, 30,35,40,45,50,55,60,65,70,75,80]\n",
    "    data['Age_bins'] = pd.cut(data['Age'], bins=bins, labels=labels)\n",
    "    #--------------------------Droping values-----------------------\n",
    "    feature_drop = [\"Name\",\"Cabin\",\"Ticket\",\"Age\"]\n",
    "    data.drop(feature_drop, axis = 1, inplace= True)\n",
    "    #-----------------------Some scaling proceses------------------\n",
    "    data['Fare'] = np.log(data['Fare']+1)\n",
    "    from sklearn.preprocessing import StandardScaler\n",
    "    scaler = StandardScaler()\n",
    "    data[['Age_bins','SibSp','Parch','Fare','FamilySize',\"Name_title\",\"Cabin_letter\"]] = scaler.fit_transform(data[[\n",
    "        'Age_bins','SibSp','Parch','Fare','FamilySize',\"Name_title\",\"Cabin_letter\"]])"
   ]
  },
  {
   "cell_type": "code",
   "execution_count": 189,
   "metadata": {},
   "outputs": [],
   "source": [
    "cleaning(train)\n",
    "cleaning(test)\n",
    "train.to_csv('../2. Prepared Data/train_cleaned.csv',index = False)\n",
    "test.to_csv('../2. Prepared Data/test_cleaned.csv',index = False)"
   ]
  },
  {
   "cell_type": "code",
   "execution_count": null,
   "metadata": {},
   "outputs": [],
   "source": []
  }
 ],
 "metadata": {
  "kernelspec": {
   "display_name": "Python 3",
   "language": "python",
   "name": "python3"
  },
  "language_info": {
   "codemirror_mode": {
    "name": "ipython",
    "version": 3
   },
   "file_extension": ".py",
   "mimetype": "text/x-python",
   "name": "python",
   "nbconvert_exporter": "python",
   "pygments_lexer": "ipython3",
   "version": "3.7.6"
  }
 },
 "nbformat": 4,
 "nbformat_minor": 4
}
