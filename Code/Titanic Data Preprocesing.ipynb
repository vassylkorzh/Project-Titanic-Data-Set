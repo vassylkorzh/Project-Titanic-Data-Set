{
 "cells": [
  {
   "cell_type": "code",
   "execution_count": 1,
   "metadata": {
    "scrolled": true
   },
   "outputs": [
    {
     "name": "stdout",
     "output_type": "stream",
     "text": [
      "<class 'pandas.core.frame.DataFrame'>\n",
      "RangeIndex: 891 entries, 0 to 890\n",
      "Data columns (total 12 columns):\n",
      " #   Column       Non-Null Count  Dtype  \n",
      "---  ------       --------------  -----  \n",
      " 0   PassengerId  891 non-null    int64  \n",
      " 1   Survived     891 non-null    int64  \n",
      " 2   Pclass       891 non-null    int64  \n",
      " 3   Name         891 non-null    object \n",
      " 4   Sex          891 non-null    object \n",
      " 5   Age          714 non-null    float64\n",
      " 6   SibSp        891 non-null    int64  \n",
      " 7   Parch        891 non-null    int64  \n",
      " 8   Ticket       891 non-null    object \n",
      " 9   Fare         891 non-null    float64\n",
      " 10  Cabin        204 non-null    object \n",
      " 11  Embarked     889 non-null    object \n",
      "dtypes: float64(2), int64(5), object(5)\n",
      "memory usage: 83.7+ KB\n"
     ]
    }
   ],
   "source": [
    "import pandas as pd\n",
    "import numpy as np \n",
    "\n",
    "train = pd.read_csv(\"../1. Original Data/train.csv\")\n",
    "test = pd.read_csv(\"../1. Original Data/test.csv\")\n",
    "train.info()\n",
    "#print (test.info())"
   ]
  },
  {
   "cell_type": "code",
   "execution_count": 2,
   "metadata": {},
   "outputs": [],
   "source": [
    "def cleaning (data):\n",
    "    \n",
    "    # Fist of all dropping null values in Embarked only 2 records\n",
    "    data.dropna(subset=['Embarked'],inplace = True)\n",
    "    # computing null in Age * Fare columns (continuous data)\n",
    "    data['Fare'] = data['Fare'].fillna(data['Fare'].dropna().median())\n",
    "    data['Age'] = data['Age'].fillna(data['Age'].dropna().median())\n",
    "    \n",
    "    #-----------------------Feature Engineering------------------- \n",
    "    #Creating Famaly Size column\n",
    "    data['FamilySize']=data['SibSp']+data['Parch']+1\n",
    "    #Creating cabin letter calumn\n",
    "    data['Cabin_letter'] = data['Cabin'].apply(lambda x: str(x)[0])\n",
    "    #Creating Name title \n",
    "    data['Name_title'] = data['Name'].apply(lambda x: x.split(',')[1].split('.')[0].strip())\n",
    "    #Create column is ticket numeric or not\n",
    "    data['Numeric_ticket'] = data['Ticket'].apply(lambda x: 1 if x.isnumeric() else 0)\n",
    "    #-----------------------Encoding Feature data-------------------\n",
    "    # By gender \n",
    "    from sklearn.preprocessing import LabelEncoder \n",
    "    labelencoder = LabelEncoder()\n",
    "    data[\"Sex\"]= labelencoder.fit_transform(data[\"Sex\"])\n",
    "    # By Embarked \n",
    "    data[\"Embarked\"]= labelencoder.fit_transform(data[\"Embarked\"])\n",
    "    #By Name_title\n",
    "    data[\"Name_title\"]= labelencoder.fit_transform(data[\"Name_title\"])\n",
    "    #By Cabin_letter\n",
    "    data[\"Cabin_letter\"]= labelencoder.fit_transform(data[\"Cabin_letter\"])\n",
    "    #--------------------Creating Age Bins------------------------\n",
    "    bins = [0, 5, 10, 15, 20, 25, 30,35,40,45,50,55,60,65,70,75,80,85]\n",
    "    labels = [0, 5, 10, 15, 20, 25, 30,35,40,45,50,55,60,65,70,75,80]\n",
    "    data['Age_bins'] = pd.cut(data['Age'], bins=bins, labels=labels)\n",
    "    #--------------------------Droping values-----------------------\n",
    "    feature_drop = [\"Name\",\"Cabin\",\"Ticket\",\"Age\"]\n",
    "    data.drop(feature_drop, axis = 1, inplace= True)\n",
    "    #-----------------------Some scaling proceses------------------\n",
    "    data['Fare'] = np.log(data['Fare']+1)\n",
    "    from sklearn.preprocessing import StandardScaler\n",
    "    scaler = StandardScaler()\n",
    "    data[['Age_bins','SibSp','Parch','Fare','FamilySize',\"Name_title\",\"Cabin_letter\"]] = scaler.fit_transform(data[[\n",
    "        'Age_bins','SibSp','Parch','Fare','FamilySize',\"Name_title\",\"Cabin_letter\"]])"
   ]
  },
  {
   "cell_type": "code",
   "execution_count": 3,
   "metadata": {},
   "outputs": [],
   "source": [
    "cleaning(train)\n",
    "cleaning(test)\n",
    "train.to_csv('../2. Prepared Data/train_cleaned.csv',index = False)\n",
    "test.to_csv('../2. Prepared Data/test_cleaned.csv',index = False)"
   ]
  }
 ],
 "metadata": {
  "kernelspec": {
   "display_name": "Python 3",
   "language": "python",
   "name": "python3"
  },
  "language_info": {
   "codemirror_mode": {
    "name": "ipython",
    "version": 3
   },
   "file_extension": ".py",
   "mimetype": "text/x-python",
   "name": "python",
   "nbconvert_exporter": "python",
   "pygments_lexer": "ipython3",
   "version": "3.7.6"
  }
 },
 "nbformat": 4,
 "nbformat_minor": 4
}
