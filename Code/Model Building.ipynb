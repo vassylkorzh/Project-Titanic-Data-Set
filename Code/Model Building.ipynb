{
 "cells": [
  {
   "cell_type": "code",
   "execution_count": 1,
   "metadata": {},
   "outputs": [
    {
     "data": {
      "text/html": [
       "<div>\n",
       "<style scoped>\n",
       "    .dataframe tbody tr th:only-of-type {\n",
       "        vertical-align: middle;\n",
       "    }\n",
       "\n",
       "    .dataframe tbody tr th {\n",
       "        vertical-align: top;\n",
       "    }\n",
       "\n",
       "    .dataframe thead th {\n",
       "        text-align: right;\n",
       "    }\n",
       "</style>\n",
       "<table border=\"1\" class=\"dataframe\">\n",
       "  <thead>\n",
       "    <tr style=\"text-align: right;\">\n",
       "      <th></th>\n",
       "      <th>Pclass</th>\n",
       "      <th>Sex</th>\n",
       "      <th>SibSp</th>\n",
       "      <th>Parch</th>\n",
       "      <th>Fare</th>\n",
       "      <th>Embarked</th>\n",
       "      <th>FamilySize</th>\n",
       "      <th>Cabin_letter</th>\n",
       "      <th>Name_title</th>\n",
       "      <th>Numeric_ticket</th>\n",
       "      <th>Age_bins</th>\n",
       "    </tr>\n",
       "  </thead>\n",
       "  <tbody>\n",
       "    <tr>\n",
       "      <th>0</th>\n",
       "      <td>3</td>\n",
       "      <td>1</td>\n",
       "      <td>0.431350</td>\n",
       "      <td>-0.474326</td>\n",
       "      <td>-0.877591</td>\n",
       "      <td>2</td>\n",
       "      <td>0.057853</td>\n",
       "      <td>0.519424</td>\n",
       "      <td>0.414443</td>\n",
       "      <td>0</td>\n",
       "      <td>-0.489339</td>\n",
       "    </tr>\n",
       "    <tr>\n",
       "      <th>1</th>\n",
       "      <td>1</td>\n",
       "      <td>0</td>\n",
       "      <td>0.431350</td>\n",
       "      <td>-0.474326</td>\n",
       "      <td>1.366380</td>\n",
       "      <td>0</td>\n",
       "      <td>0.057853</td>\n",
       "      <td>-1.932442</td>\n",
       "      <td>0.961091</td>\n",
       "      <td>0</td>\n",
       "      <td>0.671752</td>\n",
       "    </tr>\n",
       "    <tr>\n",
       "      <th>2</th>\n",
       "      <td>3</td>\n",
       "      <td>0</td>\n",
       "      <td>-0.475199</td>\n",
       "      <td>-0.474326</td>\n",
       "      <td>-0.796281</td>\n",
       "      <td>2</td>\n",
       "      <td>-0.561804</td>\n",
       "      <td>0.519424</td>\n",
       "      <td>-1.225498</td>\n",
       "      <td>0</td>\n",
       "      <td>-0.102308</td>\n",
       "    </tr>\n",
       "    <tr>\n",
       "      <th>3</th>\n",
       "      <td>1</td>\n",
       "      <td>0</td>\n",
       "      <td>0.431350</td>\n",
       "      <td>-0.474326</td>\n",
       "      <td>1.066796</td>\n",
       "      <td>2</td>\n",
       "      <td>0.057853</td>\n",
       "      <td>-1.932442</td>\n",
       "      <td>0.961091</td>\n",
       "      <td>1</td>\n",
       "      <td>0.284722</td>\n",
       "    </tr>\n",
       "    <tr>\n",
       "      <th>4</th>\n",
       "      <td>3</td>\n",
       "      <td>1</td>\n",
       "      <td>-0.475199</td>\n",
       "      <td>-0.474326</td>\n",
       "      <td>-0.781901</td>\n",
       "      <td>2</td>\n",
       "      <td>-0.561804</td>\n",
       "      <td>0.519424</td>\n",
       "      <td>0.414443</td>\n",
       "      <td>1</td>\n",
       "      <td>0.284722</td>\n",
       "    </tr>\n",
       "  </tbody>\n",
       "</table>\n",
       "</div>"
      ],
      "text/plain": [
       "   Pclass  Sex     SibSp     Parch      Fare  Embarked  FamilySize  \\\n",
       "0       3    1  0.431350 -0.474326 -0.877591         2    0.057853   \n",
       "1       1    0  0.431350 -0.474326  1.366380         0    0.057853   \n",
       "2       3    0 -0.475199 -0.474326 -0.796281         2   -0.561804   \n",
       "3       1    0  0.431350 -0.474326  1.066796         2    0.057853   \n",
       "4       3    1 -0.475199 -0.474326 -0.781901         2   -0.561804   \n",
       "\n",
       "   Cabin_letter  Name_title  Numeric_ticket  Age_bins  \n",
       "0      0.519424    0.414443               0 -0.489339  \n",
       "1     -1.932442    0.961091               0  0.671752  \n",
       "2      0.519424   -1.225498               0 -0.102308  \n",
       "3     -1.932442    0.961091               1  0.284722  \n",
       "4      0.519424    0.414443               1  0.284722  "
      ]
     },
     "execution_count": 1,
     "metadata": {},
     "output_type": "execute_result"
    }
   ],
   "source": [
    "import pandas as pd\n",
    "import numpy as np \n",
    "\n",
    "train = pd.read_csv(\"../2. Prepared Data/train_cleaned.csv\")\n",
    "test = pd.read_csv(\"../2. Prepared Data/test_cleaned.csv\")\n",
    "\n",
    "X_train = train.loc[:, 'Pclass':]\n",
    "y_train = train['Survived']\n",
    "X_test = test.loc[:, 'Pclass':]\n",
    "X_train.head()"
   ]
  },
  {
   "cell_type": "code",
   "execution_count": 2,
   "metadata": {},
   "outputs": [
    {
     "name": "stdout",
     "output_type": "stream",
     "text": [
      "[0.79775281 0.78089888 0.76966292 0.76966292 0.8079096 ]\n",
      "0.7851774265219322\n"
     ]
    }
   ],
   "source": [
    "#--------------------------------Models Building--------------------------------\n",
    "from sklearn.model_selection import cross_val_score\n",
    "#Logistic Regression\n",
    "from sklearn.linear_model import LogisticRegression\n",
    "lr = LogisticRegression(max_iter = 2000)\n",
    "cv = cross_val_score(lr,X_train,y_train,cv=5)\n",
    "print(cv)\n",
    "print(cv.mean())"
   ]
  },
  {
   "cell_type": "code",
   "execution_count": 3,
   "metadata": {},
   "outputs": [
    {
     "name": "stdout",
     "output_type": "stream",
     "text": [
      "[0.7752809  0.75280899 0.76404494 0.80337079 0.8079096 ]\n",
      "0.7806830444994605\n"
     ]
    }
   ],
   "source": [
    "#Using Naive Bayes\n",
    "from sklearn.naive_bayes import GaussianNB\n",
    "nb = GaussianNB()\n",
    "cv = cross_val_score(nb,X_train,y_train,cv=5)\n",
    "print(cv)\n",
    "print(cv.mean())"
   ]
  },
  {
   "cell_type": "code",
   "execution_count": 4,
   "metadata": {},
   "outputs": [
    {
     "name": "stdout",
     "output_type": "stream",
     "text": [
      "[0.74157303 0.74719101 0.8258427  0.80898876 0.79661017]\n",
      "0.7840411350219006\n"
     ]
    }
   ],
   "source": [
    "#Using KNN\n",
    "from sklearn.neighbors import KNeighborsClassifier\n",
    "knn = KNeighborsClassifier()\n",
    "cv = cross_val_score(knn,X_train,y_train,cv=5)\n",
    "print(cv)\n",
    "print(cv.mean())"
   ]
  },
  {
   "cell_type": "code",
   "execution_count": 5,
   "metadata": {},
   "outputs": [
    {
     "name": "stdout",
     "output_type": "stream",
     "text": [
      "[0.83707865 0.82022472 0.80337079 0.80337079 0.84745763]\n",
      "0.8223005141877738\n"
     ]
    }
   ],
   "source": [
    "#Using Support Vector Classifier\n",
    "from sklearn.svm import SVC\n",
    "svc = SVC(probability = True)\n",
    "cv = cross_val_score(svc,X_train,y_train,cv=5)\n",
    "print(cv)\n",
    "print(cv.mean())"
   ]
  },
  {
   "cell_type": "code",
   "execution_count": 6,
   "metadata": {},
   "outputs": [
    {
     "name": "stdout",
     "output_type": "stream",
     "text": [
      "[0.79775281 0.76966292 0.87078652 0.76966292 0.8079096 ]\n",
      "0.80315495461182\n"
     ]
    }
   ],
   "source": [
    "#Using Random Forest\n",
    "from sklearn.ensemble import RandomForestClassifier\n",
    "rf = RandomForestClassifier(random_state = 1)\n",
    "cv = cross_val_score(rf,X_train,y_train,cv=5)\n",
    "print(cv)\n",
    "print(cv.mean())"
   ]
  },
  {
   "cell_type": "code",
   "execution_count": 7,
   "metadata": {},
   "outputs": [
    {
     "name": "stdout",
     "output_type": "stream",
     "text": [
      "[0.75280899 0.79213483 0.80898876 0.75280899 0.83050847]\n",
      "0.7874500095219958\n"
     ]
    }
   ],
   "source": [
    "#Using Decision Tree\n",
    "from sklearn.tree import DecisionTreeClassifier\n",
    "dt = DecisionTreeClassifier(random_state = 1)\n",
    "cv = cross_val_score(dt,X_train,y_train,cv=5)\n",
    "print(cv)\n",
    "print(cv.mean())"
   ]
  },
  {
   "cell_type": "code",
   "execution_count": 8,
   "metadata": {},
   "outputs": [],
   "source": [
    "#--------------------------------Model tunning----------------------\n",
    "from sklearn.model_selection import GridSearchCV \n",
    "def reporting(model,classifier):\n",
    "    print(model)\n",
    "    print('Best Score: ' + str(classifier.best_score_))\n",
    "    print('Best Parameters: ' + str(classifier.best_params_))"
   ]
  },
  {
   "cell_type": "code",
   "execution_count": 9,
   "metadata": {},
   "outputs": [
    {
     "name": "stdout",
     "output_type": "stream",
     "text": [
      "Fitting 5 folds for each of 4 candidates, totalling 20 fits\n"
     ]
    },
    {
     "name": "stderr",
     "output_type": "stream",
     "text": [
      "[Parallel(n_jobs=-1)]: Using backend LokyBackend with 12 concurrent workers.\n"
     ]
    },
    {
     "name": "stdout",
     "output_type": "stream",
     "text": [
      "SVS\n",
      "Best Score: 0.8279311877102774\n",
      "Best Parameters: {'C': 1, 'gamma': 0.1, 'kernel': 'rbf'}\n"
     ]
    },
    {
     "name": "stderr",
     "output_type": "stream",
     "text": [
      "[Parallel(n_jobs=-1)]: Done  18 out of  20 | elapsed:    1.8s remaining:    0.2s\n",
      "[Parallel(n_jobs=-1)]: Done  20 out of  20 | elapsed:    1.8s finished\n"
     ]
    }
   ],
   "source": [
    "#SVC Modefiying\n",
    "svc = SVC(probability = True)\n",
    "param_grid = {'C':[1,10],\n",
    "          'gamma':[1,0.1],\n",
    "          'kernel':['rbf']}\n",
    "grid_s = GridSearchCV (svc,param_grid = param_grid,cv=5,verbose= True, n_jobs=-1)\n",
    "best_svc = grid_s.fit(X_train,y_train)\n",
    "reporting('SVS',best_svc)"
   ]
  },
  {
   "cell_type": "code",
   "execution_count": 10,
   "metadata": {},
   "outputs": [],
   "source": [
    "#------------------------------Predicting-----------------------------\n",
    "#Using SVC\n",
    "svc = SVC( C =  1, gamma= 0.1, kernel= 'rbf',probability = True)\n",
    "svc.fit(X_train,y_train)\n",
    "y_pred = svc.predict(X_test)\n",
    "final_data = pd.DataFrame({\n",
    "        \"PassengerId\":test[\"PassengerId\"],\n",
    "        \"Survived\":y_pred\n",
    "        })\n"
   ]
  },
  {
   "cell_type": "code",
   "execution_count": 11,
   "metadata": {},
   "outputs": [],
   "source": [
    "final_data.to_csv('../6. Final/final_data.csv',index = False)"
   ]
  },
  {
   "cell_type": "code",
   "execution_count": 12,
   "metadata": {},
   "outputs": [],
   "source": [
    "#Using Random Forest\n",
    "rf = RandomForestClassifier(random_state = 1)\n",
    "rf.fit(X_train,y_train)\n",
    "y_pred = rf.predict(X_test)\n",
    "final_data_rf = pd.DataFrame({\n",
    "        \"PassengerId\":test[\"PassengerId\"],\n",
    "        \"Survived\":y_pred\n",
    "        })\n",
    "final_data_rf.to_csv('../6. Final/final_data_rf.csv',index = False)"
   ]
  }
 ],
 "metadata": {
  "kernelspec": {
   "display_name": "Python 3",
   "language": "python",
   "name": "python3"
  },
  "language_info": {
   "codemirror_mode": {
    "name": "ipython",
    "version": 3
   },
   "file_extension": ".py",
   "mimetype": "text/x-python",
   "name": "python",
   "nbconvert_exporter": "python",
   "pygments_lexer": "ipython3",
   "version": "3.7.6"
  }
 },
 "nbformat": 4,
 "nbformat_minor": 4
}
